{
  "nbformat": 4,
  "nbformat_minor": 0,
  "metadata": {
    "colab": {
      "provenance": [],
      "include_colab_link": true
    },
    "kernelspec": {
      "name": "python3",
      "display_name": "Python 3"
    },
    "language_info": {
      "name": "python"
    }
  },
  "cells": [
    {
      "cell_type": "markdown",
      "metadata": {
        "id": "view-in-github",
        "colab_type": "text"
      },
      "source": [
        "<a href=\"https://colab.research.google.com/github/EclipticWin/Data-Analysis-with-Open-Source/blob/main/%EC%98%A4%ED%94%88%EC%86%8C%EC%8A%A4_%EB%8D%B0%EC%9D%B4%ED%84%B0_%EB%B6%84%EC%84%9D_5%EA%B0%95.ipynb\" target=\"_parent\"><img src=\"https://colab.research.google.com/assets/colab-badge.svg\" alt=\"Open In Colab\"/></a>"
      ]
    },
    {
      "cell_type": "markdown",
      "source": [
        "# 오픈소스 기반 데이터 분석 5강 - 데이터 저장"
      ],
      "metadata": {
        "id": "O4kC4JMknVnK"
      }
    },
    {
      "cell_type": "markdown",
      "source": [
        "## 5-1 CSV 형식 저장"
      ],
      "metadata": {
        "id": "8DfV0cZLqj_s"
      }
    },
    {
      "cell_type": "code",
      "source": [
        "# 파이썬 객체 -> DataFrame -> csv\n",
        "import pandas as pd\n",
        "\n",
        "data = {\n",
        "    'student_id': [101, 102, 103, 104, 105],\n",
        "    'database_score': [85, 76, 92, 63, 88],\n",
        "    'cloudcomputing_score': [78, 82, 95, 70, 84],\n",
        "    'python_score': [92, 78, 85, 75, 91],\n",
        "    'watch_rate': [0.95, 0.87, 0.99, 0.80, 0.93]\n",
        "}\n",
        "## DataFrame 생성\n",
        "df = pd.DataFrame(data)\n",
        "print(df)\n",
        "\n",
        "## CSV 형식 저장\n",
        "df.to_csv('student_analysis.csv', encoding='utf-8', index=False)"
      ],
      "metadata": {
        "id": "DztLRI9gW2lk"
      },
      "execution_count": null,
      "outputs": []
    },
    {
      "cell_type": "markdown",
      "source": [
        "## 5-2 JSON 형식 저장"
      ],
      "metadata": {
        "id": "CSABzaf3q8XU"
      }
    },
    {
      "cell_type": "code",
      "source": [
        "### 라이브러리 임포트\n",
        "import json\n",
        "import pandas as pd\n",
        "\n",
        "data = {\n",
        "    \"이름\": \"홍길동\",\n",
        "    \"나이\": 25,\n",
        "    \"거주지\": \"서울\",\n",
        "    \"관심사\": [\"프로그래밍\", \"데이터 분석\", \"여행\"]\n",
        "}\n",
        "\n",
        "## json.dump를 이용한 저장\n",
        "with open('output.json', mode='w', encoding='utf-8') as f:\n",
        "  json.dump(data, f, indent=4, ensure_ascii=False)\n",
        "\n",
        "## DataFrame을 이용한 저장\n",
        "# 결과 - 값이 3개라 3개의 행에 대한 데이터를 객체로 만들어줌\n",
        "df = pd.DataFrame(data)\n",
        "df.to_json('output_df.json', orient='records', indent=4, force_ascii=False)\n",
        "# orient 이용하면 출력 형식 바뀜\n",
        "# df = pd.DataFrame([data]) 이렇게 하고 오리엔트 columns 쓰면 컬럼 단위"
      ],
      "metadata": {
        "id": "7bAgRpizW7Vj"
      },
      "execution_count": 4,
      "outputs": []
    },
    {
      "cell_type": "markdown",
      "source": [
        "## 5-3 Pandas Dataframe 데이터 추출"
      ],
      "metadata": {
        "id": "NMlsQDHtrA_x"
      }
    },
    {
      "cell_type": "code",
      "source": [
        "# 데이터 분석에선 언제 어떤 값을 가지고 와서 사용할지 모르기 때문에 다양한 방식으로 조작하는 법을 알아야 함\n",
        "# 아래가 다양한 방식 조작하는 법\n",
        "import pandas as pd\n",
        "\n",
        "data = {\n",
        "    \"이름\": [\"김철수\", \"이영희\", \"박민수\", \"최지훈\", \"정소희\"],\n",
        "    \"학년\": [1, 2, 3, 4, 2],\n",
        "    \"학점\": [4.2, 3.8, 4.5, 3.9, 3.5],\n",
        "    \"학과\": [\"컴퓨터학\", \"경영학\", \"농학\", \"교육학\", \"영어영문학\"],\n",
        "    \"동아리\": [\"프로그래밍\", \"독서토론\", \"로봇공학\", \"봉사활동\", \"음악감상\"]\n",
        "}\n",
        "df = pd.DataFrame(data)\n",
        "\n",
        "## DataFrame 인덱스 출력\n",
        "print(df.index)\n",
        "\n",
        "## DataFrame 컬럼 출력\n",
        "print(df.columns)\n",
        "\n",
        "## DataFrame 행 출력\n",
        "print(df.values.tolist()) # 파이썬의 list형태로 만들어줌\n",
        "print(df.values) # 출력 결과는 윗줄과 크게 다르지x, 내부적으로 넘파이 array 형태\n",
        "\n",
        "## DataFrame 값 출력\n",
        "print(df.values.flatten()) # 구조를 무너뜨리고 쭉 일렬로 나열"
      ],
      "metadata": {
        "id": "dk3xneVAW9_g",
        "colab": {
          "base_uri": "https://localhost:8080/"
        },
        "outputId": "66131437-1f98-4488-996b-d5eb17de3cea"
      },
      "execution_count": 13,
      "outputs": [
        {
          "output_type": "stream",
          "name": "stdout",
          "text": [
            "RangeIndex(start=0, stop=5, step=1)\n",
            "Index(['이름', '학년', '학점', '학과', '동아리'], dtype='object')\n",
            "[['김철수', 1, 4.2, '컴퓨터학', '프로그래밍'], ['이영희', 2, 3.8, '경영학', '독서토론'], ['박민수', 3, 4.5, '농학', '로봇공학'], ['최지훈', 4, 3.9, '교육학', '봉사활동'], ['정소희', 2, 3.5, '영어영문학', '음악감상']]\n",
            "[['김철수' 1 4.2 '컴퓨터학' '프로그래밍']\n",
            " ['이영희' 2 3.8 '경영학' '독서토론']\n",
            " ['박민수' 3 4.5 '농학' '로봇공학']\n",
            " ['최지훈' 4 3.9 '교육학' '봉사활동']\n",
            " ['정소희' 2 3.5 '영어영문학' '음악감상']]\n",
            "['김철수' 1 4.2 '컴퓨터학' '프로그래밍' '이영희' 2 3.8 '경영학' '독서토론' '박민수' 3 4.5 '농학'\n",
            " '로봇공학' '최지훈' 4 3.9 '교육학' '봉사활동' '정소희' 2 3.5 '영어영문학' '음악감상']\n"
          ]
        }
      ]
    },
    {
      "cell_type": "markdown",
      "source": [
        "## 5-4 DataFrame 생성 방법"
      ],
      "metadata": {
        "id": "ILJd1GLoseqm"
      }
    },
    {
      "cell_type": "code",
      "source": [
        "import pandas as pd\n",
        "import json\n",
        "\n",
        "data = {\n",
        "    \"이름\": [\"김철수\", \"이영희\", \"박민수\", \"최지훈\", \"정소희\"],\n",
        "    \"학년\": [1, 2, 3, 4, 2],\n",
        "    \"학점\": [4.2, 3.8, 4.5, 3.9, 3.5],\n",
        "    \"학과\": [\"컴퓨터공학\", \"경영학\", \"전자공학\", \"의학\", \"심리학\"],\n",
        "    \"동아리\": [\"프로그래밍\", \"독서토론\", \"로봇공학\", \"봉사활동\", \"음악감상\"]\n",
        "}\n",
        "\n",
        "## 딕셔너리, csv, json으로 부터 DataFrame 생성\n",
        "df1 = pd.DataFrame.from_dict(data)\n",
        "df2 = pd.read_csv('students.csv')\n",
        "df3 = pd.read_json('students.json')\n",
        "\n",
        "## 세가지 방법 결과 비교\n",
        "print(df1.shape) # shape 가로, 세로로 몇 개 행, 열 있는지 확인 가능\n",
        "print(df2.shape)\n",
        "print(df3.shape)"
      ],
      "metadata": {
        "id": "ISnPLEgNXAmi",
        "colab": {
          "base_uri": "https://localhost:8080/"
        },
        "outputId": "4997f9ea-7971-435e-f936-3daec58ee0c3"
      },
      "execution_count": 14,
      "outputs": [
        {
          "output_type": "stream",
          "name": "stdout",
          "text": [
            "(5, 5)\n",
            "(5, 5)\n",
            "(5, 5)\n"
          ]
        }
      ]
    },
    {
      "cell_type": "markdown",
      "source": [
        "## 5-5 DataFrame 저장 방법"
      ],
      "metadata": {
        "id": "z1N6lAnwsdyU"
      }
    },
    {
      "cell_type": "code",
      "source": [
        "import pandas as pd\n",
        "\n",
        "data = {\n",
        "    \"이름\": [\"김철수\", \"이영희\", \"박민수\", \"최지훈\", \"정소희\"],\n",
        "    \"학년\": [1, 2, 3, 4, 2],\n",
        "    \"학점\": [4.2, 3.8, 4.5, 3.9, 3.5],\n",
        "    \"학과\": [\"컴퓨터공학\", \"경영학\", \"전자공학\", \"의학\", \"심리학\"],\n",
        "    \"동아리\": [\"프로그래밍\", \"독서토론\", \"로봇공학\", \"봉사활동\", \"음악감상\"]\n",
        "}\n",
        "\n",
        "## Dataframe 생성\n",
        "df = pd.DataFrame(data)\n",
        "\n",
        "## CSV, JSON 형식으로 저장\n",
        "df.to_csv('students_scores.csv')\n",
        "df.to_json('students_scores.json', force_ascii=False)\n",
        "\n",
        "## HTML 형식으로 저장\n",
        "html_table = df.to_html()\n",
        "print(html_table)\n",
        "with open('students_scores.html', 'w') as f:\n",
        "  f.write(html_table)"
      ],
      "metadata": {
        "id": "_dqoWCRoXDrJ",
        "colab": {
          "base_uri": "https://localhost:8080/"
        },
        "outputId": "135874f2-7b1b-4263-acbe-94145890b362"
      },
      "execution_count": 28,
      "outputs": [
        {
          "output_type": "stream",
          "name": "stdout",
          "text": [
            "<table border=\"1\" class=\"dataframe\">\n",
            "  <thead>\n",
            "    <tr style=\"text-align: right;\">\n",
            "      <th></th>\n",
            "      <th>이름</th>\n",
            "      <th>학년</th>\n",
            "      <th>학점</th>\n",
            "      <th>학과</th>\n",
            "      <th>동아리</th>\n",
            "    </tr>\n",
            "  </thead>\n",
            "  <tbody>\n",
            "    <tr>\n",
            "      <th>0</th>\n",
            "      <td>김철수</td>\n",
            "      <td>1</td>\n",
            "      <td>4.2</td>\n",
            "      <td>컴퓨터공학</td>\n",
            "      <td>프로그래밍</td>\n",
            "    </tr>\n",
            "    <tr>\n",
            "      <th>1</th>\n",
            "      <td>이영희</td>\n",
            "      <td>2</td>\n",
            "      <td>3.8</td>\n",
            "      <td>경영학</td>\n",
            "      <td>독서토론</td>\n",
            "    </tr>\n",
            "    <tr>\n",
            "      <th>2</th>\n",
            "      <td>박민수</td>\n",
            "      <td>3</td>\n",
            "      <td>4.5</td>\n",
            "      <td>전자공학</td>\n",
            "      <td>로봇공학</td>\n",
            "    </tr>\n",
            "    <tr>\n",
            "      <th>3</th>\n",
            "      <td>최지훈</td>\n",
            "      <td>4</td>\n",
            "      <td>3.9</td>\n",
            "      <td>의학</td>\n",
            "      <td>봉사활동</td>\n",
            "    </tr>\n",
            "    <tr>\n",
            "      <th>4</th>\n",
            "      <td>정소희</td>\n",
            "      <td>2</td>\n",
            "      <td>3.5</td>\n",
            "      <td>심리학</td>\n",
            "      <td>음악감상</td>\n",
            "    </tr>\n",
            "  </tbody>\n",
            "</table>\n"
          ]
        }
      ]
    },
    {
      "cell_type": "markdown",
      "source": [
        "## 5-6 실습 시나리오"
      ],
      "metadata": {
        "id": "ifBFAyulsdJb"
      }
    },
    {
      "cell_type": "markdown",
      "source": [
        "## 데이터 수집"
      ],
      "metadata": {
        "id": "muFj6okKyXy6"
      }
    },
    {
      "cell_type": "code",
      "source": [
        "import requests\n",
        "\n",
        "\n",
        "api_key = '내 api키'\n",
        "url = f\"http://openapi.seoul.go.kr:8088/{api_key}/json/SeoulLibraryScheduleInfo/1/5/\"\n",
        "\n",
        "## 데이터 수집\n",
        "response = requests.get(url)\n",
        "\n",
        "## 호출 성공/실패 출력\n",
        "print(response.json())\n",
        "# 결과에서 필요한 거만 뽑아서 데이터 프레임으로 만들면 됨"
      ],
      "metadata": {
        "id": "7yCozmQeXJcO",
        "colab": {
          "base_uri": "https://localhost:8080/"
        },
        "outputId": "a206cf9d-d892-48c9-e233-705d96fc6845"
      },
      "execution_count": 19,
      "outputs": [
        {
          "output_type": "stream",
          "name": "stdout",
          "text": [
            "{'SeoulLibraryScheduleInfo': {'list_total_count': 1414, 'RESULT': {'CODE': 'INFO-000', 'MESSAGE': '정상 처리되었습니다'}, 'row': [{'SCHDUL_ID': '8508', 'SCHDUL_TITLE': '방구석 북토크(남궁인)', 'DATE_FROM': '20250523', 'DATE_TO': '20250523', 'TIME_FROM': '1900', 'TIME_TO': '2030', 'SCHDUL_TY': '0003', 'SCHDUL_NM': '강연일', 'PERIOD': '0001', 'PERIOD_NM': '일', 'PERIOD_VALUE': '', 'SPNSER': '서울도서관', 'PLACE': '일반자료실 생각마루', 'CITY': '', 'REFER_URL': 'https://lib.seoul.go.kr/lecture/applyDetail/5982', 'SCHDUL_CNTENT': '[서울 문화의 밤] 5월 방구석 북토크 - 응급실에서 발견한 사랑(남궁인)\\r\\n\\r\\n'}, {'SCHDUL_ID': '8507', 'SCHDUL_TITLE': '방구석 북토크(김수인)', 'DATE_FROM': '20250516', 'DATE_TO': '20250516', 'TIME_FROM': '1900', 'TIME_TO': '2030', 'SCHDUL_TY': '0003', 'SCHDUL_NM': '강연일', 'PERIOD': '0001', 'PERIOD_NM': '일', 'PERIOD_VALUE': '', 'SPNSER': '서울도서관', 'PLACE': '일반자료실 생각마루', 'CITY': '', 'REFER_URL': 'https://lib.seoul.go.kr/lecture/applyDetail/6001', 'SCHDUL_CNTENT': '[서울 문화의 밤] 5월 방구석 북토크 - 성찰과 공감을 통한 건강한 관계 맺기(김수인)\\r\\n\\r\\n'}, {'SCHDUL_ID': '8506', 'SCHDUL_TITLE': '방구석 북토크(허정윤)', 'DATE_FROM': '20250502', 'DATE_TO': '20250502', 'TIME_FROM': '1900', 'TIME_TO': '2030', 'SCHDUL_TY': '0003', 'SCHDUL_NM': '강연일', 'PERIOD': '0001', 'PERIOD_NM': '일', 'PERIOD_VALUE': '', 'SPNSER': '서울도서관 ', 'PLACE': '일반자료실 생각마루', 'CITY': '', 'REFER_URL': 'https://lib.seoul.go.kr/lecture/applyList', 'SCHDUL_CNTENT': '[서울 문화의 밤] 5월 방구석 북토크 - 껌지와 딱지(허정윤)\\r\\n\\r\\n'}, {'SCHDUL_ID': '8509', 'SCHDUL_TITLE': '방구석 북토크(허우령)', 'DATE_FROM': '20250418', 'DATE_TO': '20250418', 'TIME_FROM': '1900', 'TIME_TO': '2030', 'SCHDUL_TY': '0003', 'SCHDUL_NM': '강연일', 'PERIOD': '0001', 'PERIOD_NM': '일', 'PERIOD_VALUE': '', 'SPNSER': '서울도서관', 'PLACE': '일반자료실 생각마루', 'CITY': '', 'REFER_URL': 'https://lib.seoul.go.kr/lecture/applyDetail/5823', 'SCHDUL_CNTENT': '[서울 문화의 밤] 4월 방구석 북토크 - 잃어도 이뤄냈으니까(허우령)\\r\\n\\r\\n'}, {'SCHDUL_ID': '8510', 'SCHDUL_TITLE': '방구석 북토크(장재열)', 'DATE_FROM': '20250411', 'DATE_TO': '20250411', 'TIME_FROM': '0000', 'TIME_TO': '0000', 'SCHDUL_TY': '0003', 'SCHDUL_NM': '강연일', 'PERIOD': '0001', 'PERIOD_NM': '일', 'PERIOD_VALUE': '', 'SPNSER': '서울도서관', 'PLACE': '일반자료실 생각마루', 'CITY': '', 'REFER_URL': 'https://lib.seoul.go.kr/lecture/applyDetail/5842', 'SCHDUL_CNTENT': '[서울 문화의 밤] 4월 방구석 북토크 - 나를 바꾸는 사소한 습관의 힘(장재열)\\r\\n\\r\\n'}]}}\n"
          ]
        }
      ]
    },
    {
      "cell_type": "code",
      "source": [
        "response.json()"
      ],
      "metadata": {
        "colab": {
          "base_uri": "https://localhost:8080/"
        },
        "id": "YxRz2a7bNWl-",
        "outputId": "956c16d3-189f-4619-ab5e-f29a4479a938"
      },
      "execution_count": 20,
      "outputs": [
        {
          "output_type": "execute_result",
          "data": {
            "text/plain": [
              "{'SeoulLibraryScheduleInfo': {'list_total_count': 1414,\n",
              "  'RESULT': {'CODE': 'INFO-000', 'MESSAGE': '정상 처리되었습니다'},\n",
              "  'row': [{'SCHDUL_ID': '8508',\n",
              "    'SCHDUL_TITLE': '방구석 북토크(남궁인)',\n",
              "    'DATE_FROM': '20250523',\n",
              "    'DATE_TO': '20250523',\n",
              "    'TIME_FROM': '1900',\n",
              "    'TIME_TO': '2030',\n",
              "    'SCHDUL_TY': '0003',\n",
              "    'SCHDUL_NM': '강연일',\n",
              "    'PERIOD': '0001',\n",
              "    'PERIOD_NM': '일',\n",
              "    'PERIOD_VALUE': '',\n",
              "    'SPNSER': '서울도서관',\n",
              "    'PLACE': '일반자료실 생각마루',\n",
              "    'CITY': '',\n",
              "    'REFER_URL': 'https://lib.seoul.go.kr/lecture/applyDetail/5982',\n",
              "    'SCHDUL_CNTENT': '[서울 문화의 밤] 5월 방구석 북토크 - 응급실에서 발견한 사랑(남궁인)\\r\\n\\r\\n'},\n",
              "   {'SCHDUL_ID': '8507',\n",
              "    'SCHDUL_TITLE': '방구석 북토크(김수인)',\n",
              "    'DATE_FROM': '20250516',\n",
              "    'DATE_TO': '20250516',\n",
              "    'TIME_FROM': '1900',\n",
              "    'TIME_TO': '2030',\n",
              "    'SCHDUL_TY': '0003',\n",
              "    'SCHDUL_NM': '강연일',\n",
              "    'PERIOD': '0001',\n",
              "    'PERIOD_NM': '일',\n",
              "    'PERIOD_VALUE': '',\n",
              "    'SPNSER': '서울도서관',\n",
              "    'PLACE': '일반자료실 생각마루',\n",
              "    'CITY': '',\n",
              "    'REFER_URL': 'https://lib.seoul.go.kr/lecture/applyDetail/6001',\n",
              "    'SCHDUL_CNTENT': '[서울 문화의 밤] 5월 방구석 북토크 - 성찰과 공감을 통한 건강한 관계 맺기(김수인)\\r\\n\\r\\n'},\n",
              "   {'SCHDUL_ID': '8506',\n",
              "    'SCHDUL_TITLE': '방구석 북토크(허정윤)',\n",
              "    'DATE_FROM': '20250502',\n",
              "    'DATE_TO': '20250502',\n",
              "    'TIME_FROM': '1900',\n",
              "    'TIME_TO': '2030',\n",
              "    'SCHDUL_TY': '0003',\n",
              "    'SCHDUL_NM': '강연일',\n",
              "    'PERIOD': '0001',\n",
              "    'PERIOD_NM': '일',\n",
              "    'PERIOD_VALUE': '',\n",
              "    'SPNSER': '서울도서관 ',\n",
              "    'PLACE': '일반자료실 생각마루',\n",
              "    'CITY': '',\n",
              "    'REFER_URL': 'https://lib.seoul.go.kr/lecture/applyList',\n",
              "    'SCHDUL_CNTENT': '[서울 문화의 밤] 5월 방구석 북토크 - 껌지와 딱지(허정윤)\\r\\n\\r\\n'},\n",
              "   {'SCHDUL_ID': '8509',\n",
              "    'SCHDUL_TITLE': '방구석 북토크(허우령)',\n",
              "    'DATE_FROM': '20250418',\n",
              "    'DATE_TO': '20250418',\n",
              "    'TIME_FROM': '1900',\n",
              "    'TIME_TO': '2030',\n",
              "    'SCHDUL_TY': '0003',\n",
              "    'SCHDUL_NM': '강연일',\n",
              "    'PERIOD': '0001',\n",
              "    'PERIOD_NM': '일',\n",
              "    'PERIOD_VALUE': '',\n",
              "    'SPNSER': '서울도서관',\n",
              "    'PLACE': '일반자료실 생각마루',\n",
              "    'CITY': '',\n",
              "    'REFER_URL': 'https://lib.seoul.go.kr/lecture/applyDetail/5823',\n",
              "    'SCHDUL_CNTENT': '[서울 문화의 밤] 4월 방구석 북토크 - 잃어도 이뤄냈으니까(허우령)\\r\\n\\r\\n'},\n",
              "   {'SCHDUL_ID': '8510',\n",
              "    'SCHDUL_TITLE': '방구석 북토크(장재열)',\n",
              "    'DATE_FROM': '20250411',\n",
              "    'DATE_TO': '20250411',\n",
              "    'TIME_FROM': '0000',\n",
              "    'TIME_TO': '0000',\n",
              "    'SCHDUL_TY': '0003',\n",
              "    'SCHDUL_NM': '강연일',\n",
              "    'PERIOD': '0001',\n",
              "    'PERIOD_NM': '일',\n",
              "    'PERIOD_VALUE': '',\n",
              "    'SPNSER': '서울도서관',\n",
              "    'PLACE': '일반자료실 생각마루',\n",
              "    'CITY': '',\n",
              "    'REFER_URL': 'https://lib.seoul.go.kr/lecture/applyDetail/5842',\n",
              "    'SCHDUL_CNTENT': '[서울 문화의 밤] 4월 방구석 북토크 - 나를 바꾸는 사소한 습관의 힘(장재열)\\r\\n\\r\\n'}]}}"
            ]
          },
          "metadata": {},
          "execution_count": 20
        }
      ]
    },
    {
      "cell_type": "markdown",
      "source": [
        "## 데이터 프레임 생성"
      ],
      "metadata": {
        "id": "d6mT4IxkySzI"
      }
    },
    {
      "cell_type": "code",
      "source": [
        "import pandas as pd\n",
        "\n",
        "## requests로부터 response, body, item 항목 읽기\n",
        "data = response.json()['SeoulLibraryScheduleInfo']['row']\n",
        "print(data)\n",
        "print(type(data))\n",
        "print(len(data))\n",
        "print(data[0])\n",
        "\n",
        "df = pd.DataFrame(data)\n",
        "# df\n",
        "\n",
        "# 특정 컬럼만 지정\n",
        "df['SCHDUL_TITLE']"
      ],
      "metadata": {
        "id": "HOOo9qTsXLkB",
        "colab": {
          "base_uri": "https://localhost:8080/",
          "height": 334
        },
        "outputId": "d9381991-2dff-4750-dc11-b4420a6a58a8"
      },
      "execution_count": 27,
      "outputs": [
        {
          "output_type": "stream",
          "name": "stdout",
          "text": [
            "[{'SCHDUL_ID': '8508', 'SCHDUL_TITLE': '방구석 북토크(남궁인)', 'DATE_FROM': '20250523', 'DATE_TO': '20250523', 'TIME_FROM': '1900', 'TIME_TO': '2030', 'SCHDUL_TY': '0003', 'SCHDUL_NM': '강연일', 'PERIOD': '0001', 'PERIOD_NM': '일', 'PERIOD_VALUE': '', 'SPNSER': '서울도서관', 'PLACE': '일반자료실 생각마루', 'CITY': '', 'REFER_URL': 'https://lib.seoul.go.kr/lecture/applyDetail/5982', 'SCHDUL_CNTENT': '[서울 문화의 밤] 5월 방구석 북토크 - 응급실에서 발견한 사랑(남궁인)\\r\\n\\r\\n'}, {'SCHDUL_ID': '8507', 'SCHDUL_TITLE': '방구석 북토크(김수인)', 'DATE_FROM': '20250516', 'DATE_TO': '20250516', 'TIME_FROM': '1900', 'TIME_TO': '2030', 'SCHDUL_TY': '0003', 'SCHDUL_NM': '강연일', 'PERIOD': '0001', 'PERIOD_NM': '일', 'PERIOD_VALUE': '', 'SPNSER': '서울도서관', 'PLACE': '일반자료실 생각마루', 'CITY': '', 'REFER_URL': 'https://lib.seoul.go.kr/lecture/applyDetail/6001', 'SCHDUL_CNTENT': '[서울 문화의 밤] 5월 방구석 북토크 - 성찰과 공감을 통한 건강한 관계 맺기(김수인)\\r\\n\\r\\n'}, {'SCHDUL_ID': '8506', 'SCHDUL_TITLE': '방구석 북토크(허정윤)', 'DATE_FROM': '20250502', 'DATE_TO': '20250502', 'TIME_FROM': '1900', 'TIME_TO': '2030', 'SCHDUL_TY': '0003', 'SCHDUL_NM': '강연일', 'PERIOD': '0001', 'PERIOD_NM': '일', 'PERIOD_VALUE': '', 'SPNSER': '서울도서관 ', 'PLACE': '일반자료실 생각마루', 'CITY': '', 'REFER_URL': 'https://lib.seoul.go.kr/lecture/applyList', 'SCHDUL_CNTENT': '[서울 문화의 밤] 5월 방구석 북토크 - 껌지와 딱지(허정윤)\\r\\n\\r\\n'}, {'SCHDUL_ID': '8509', 'SCHDUL_TITLE': '방구석 북토크(허우령)', 'DATE_FROM': '20250418', 'DATE_TO': '20250418', 'TIME_FROM': '1900', 'TIME_TO': '2030', 'SCHDUL_TY': '0003', 'SCHDUL_NM': '강연일', 'PERIOD': '0001', 'PERIOD_NM': '일', 'PERIOD_VALUE': '', 'SPNSER': '서울도서관', 'PLACE': '일반자료실 생각마루', 'CITY': '', 'REFER_URL': 'https://lib.seoul.go.kr/lecture/applyDetail/5823', 'SCHDUL_CNTENT': '[서울 문화의 밤] 4월 방구석 북토크 - 잃어도 이뤄냈으니까(허우령)\\r\\n\\r\\n'}, {'SCHDUL_ID': '8510', 'SCHDUL_TITLE': '방구석 북토크(장재열)', 'DATE_FROM': '20250411', 'DATE_TO': '20250411', 'TIME_FROM': '0000', 'TIME_TO': '0000', 'SCHDUL_TY': '0003', 'SCHDUL_NM': '강연일', 'PERIOD': '0001', 'PERIOD_NM': '일', 'PERIOD_VALUE': '', 'SPNSER': '서울도서관', 'PLACE': '일반자료실 생각마루', 'CITY': '', 'REFER_URL': 'https://lib.seoul.go.kr/lecture/applyDetail/5842', 'SCHDUL_CNTENT': '[서울 문화의 밤] 4월 방구석 북토크 - 나를 바꾸는 사소한 습관의 힘(장재열)\\r\\n\\r\\n'}]\n",
            "<class 'list'>\n",
            "5\n",
            "{'SCHDUL_ID': '8508', 'SCHDUL_TITLE': '방구석 북토크(남궁인)', 'DATE_FROM': '20250523', 'DATE_TO': '20250523', 'TIME_FROM': '1900', 'TIME_TO': '2030', 'SCHDUL_TY': '0003', 'SCHDUL_NM': '강연일', 'PERIOD': '0001', 'PERIOD_NM': '일', 'PERIOD_VALUE': '', 'SPNSER': '서울도서관', 'PLACE': '일반자료실 생각마루', 'CITY': '', 'REFER_URL': 'https://lib.seoul.go.kr/lecture/applyDetail/5982', 'SCHDUL_CNTENT': '[서울 문화의 밤] 5월 방구석 북토크 - 응급실에서 발견한 사랑(남궁인)\\r\\n\\r\\n'}\n"
          ]
        },
        {
          "output_type": "execute_result",
          "data": {
            "text/plain": [
              "0    방구석 북토크(남궁인)\n",
              "1    방구석 북토크(김수인)\n",
              "2    방구석 북토크(허정윤)\n",
              "3    방구석 북토크(허우령)\n",
              "4    방구석 북토크(장재열)\n",
              "Name: SCHDUL_TITLE, dtype: object"
            ],
            "text/html": [
              "<div>\n",
              "<style scoped>\n",
              "    .dataframe tbody tr th:only-of-type {\n",
              "        vertical-align: middle;\n",
              "    }\n",
              "\n",
              "    .dataframe tbody tr th {\n",
              "        vertical-align: top;\n",
              "    }\n",
              "\n",
              "    .dataframe thead th {\n",
              "        text-align: right;\n",
              "    }\n",
              "</style>\n",
              "<table border=\"1\" class=\"dataframe\">\n",
              "  <thead>\n",
              "    <tr style=\"text-align: right;\">\n",
              "      <th></th>\n",
              "      <th>SCHDUL_TITLE</th>\n",
              "    </tr>\n",
              "  </thead>\n",
              "  <tbody>\n",
              "    <tr>\n",
              "      <th>0</th>\n",
              "      <td>방구석 북토크(남궁인)</td>\n",
              "    </tr>\n",
              "    <tr>\n",
              "      <th>1</th>\n",
              "      <td>방구석 북토크(김수인)</td>\n",
              "    </tr>\n",
              "    <tr>\n",
              "      <th>2</th>\n",
              "      <td>방구석 북토크(허정윤)</td>\n",
              "    </tr>\n",
              "    <tr>\n",
              "      <th>3</th>\n",
              "      <td>방구석 북토크(허우령)</td>\n",
              "    </tr>\n",
              "    <tr>\n",
              "      <th>4</th>\n",
              "      <td>방구석 북토크(장재열)</td>\n",
              "    </tr>\n",
              "  </tbody>\n",
              "</table>\n",
              "</div><br><label><b>dtype:</b> object</label>"
            ]
          },
          "metadata": {},
          "execution_count": 27
        }
      ]
    },
    {
      "cell_type": "markdown",
      "source": [
        "## 다양항 형식으로 데이터 저장\n"
      ],
      "metadata": {
        "id": "vVG0HYb0ymeM"
      }
    },
    {
      "cell_type": "code",
      "source": [
        "## CSV 형식 데이터 저장\n",
        "df.to_csv('air_pollution.csv', index=False, encoding='utf-8')\n",
        "\n",
        "## JSON 형식 데이터 저장(indent 값 주기, force_ascii 이거 False 안쓰면 한글 다 깨짐)\n",
        "df.to_json('air_pollution.json', indent=4, force_ascii=False)\n",
        "\n",
        "## EXCEL 형식 데이터 저장\n",
        "df.to_excel('air_pollution.xlsx', index=False)\n",
        "\n",
        "## HTML 형식 데이터 저장\n",
        "# 위에서 한 방법을 더 간추려서 할 경우 아래처럼\n",
        "df.to_html('air_pollution.html')\n"
      ],
      "metadata": {
        "id": "HW1ZodpgXNhG"
      },
      "execution_count": 29,
      "outputs": []
    }
  ]
}